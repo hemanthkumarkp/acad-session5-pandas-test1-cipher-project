{
 "cells": [
  {
   "cell_type": "markdown",
   "metadata": {},
   "source": [
    "1. Write a program in Python with one class called Cipher.\n",
    "Within the constructor of this class, ask user for a string\n",
    "and store it. Use a static variable, key to store a randomly\n",
    "generated integer between 1 and 50 inclusive. Implement\n",
    "two methods, encrypt and decrypt within this class. Encrypt\n",
    "generates and prints a cipher text using the user-entered\n",
    "string and the key and decrypt generates decrypted string\n",
    "from ciphertext. The cipher only encrypts alpha and\n",
    "numeric (A-Z, a-z, 0-9). All Symbols, such as - , ; %, remain\n",
    "unencrypted. The cipher text can have special characters.\n",
    "Use generator expression to filter out alpha and numeric\n",
    "characters of the input string and to generate cipher text.\n",
    "Create an instance of this class, encrypt and decrypt back\n",
    "the user entered string."
   ]
  },
  {
   "cell_type": "code",
   "execution_count": 114,
   "metadata": {},
   "outputs": [
    {
     "name": "stdout",
     "output_type": "stream",
     "text": [
      "Enter String to Encrypt :asdf@#$aSWER123\n",
      "Cipher Key is :  23\n",
      "Encrypted String is: aaaaaaaaaaaaaaaaaaaaaaasssssssssssssssssssssssdddddddddddddddddddddddfffffffffffffffffffffff@#$aaaaaaaaaaaaaaaaaaaaaaaSSSSSSSSSSSSSSSSSSSSSSSWWWWWWWWWWWWWWWWWWWWWWWEEEEEEEEEEEEEEEEEEEEEEERRRRRRRRRRRRRRRRRRRRRRR111111111111111111111112222222222222222222222233333333333333333333333 \n",
      "\n",
      "Decrypted String is: asdf@#$aSWER123 \n",
      "\n",
      "Input String : asdf@#$aSWER123  and Decrypted String  asdf@#$aSWER123  Equal or Not:  True\n"
     ]
    }
   ],
   "source": [
    "import random\n",
    "import re\n",
    "class Cipher:\n",
    "    key = random.randint(1,51)\n",
    "    #key = 4\n",
    "    def __init__(self):\n",
    "        pass\n",
    "   \n",
    "    def encryptLetters1(self,str):\n",
    "        for letter in str: \n",
    "            if letter.isalnum():\n",
    "                yield letter*self.key\n",
    "            else:\n",
    "                yield letter\n",
    "    \n",
    "    def encryptLetters2(self,str):\n",
    "        self.splChars = []\n",
    "        for index in range(0,len(str)): \n",
    "            if str[index].isalnum():\n",
    "                yield chr(ord(str[index]) + (key))\n",
    "            else:\n",
    "                splChars.append(str[index])\n",
    "                yield letter\n",
    "    \n",
    "    def decryptLetters2(self,str):\n",
    "        for letter in str:\n",
    "            if letter not in splChars:\n",
    "                yield chr(ord(letter) - int(key))\n",
    "            else:\n",
    "                yield letter\n",
    "            \n",
    "    def encrypt(self,strToEncrypt):\n",
    "        return ''.join(self.encryptLetters1(strToEncrypt))\n",
    "    \n",
    "    def decryptLetters1(self,strToDecrypt):\n",
    "        finalStr1 = ''\n",
    "        length = len(strToDecrypt)\n",
    "        index = 0\n",
    "        while index < length:\n",
    "            a = strToDecrypt[index]\n",
    "            finalStr1 += a\n",
    "            if strToDecrypt[index].isalnum():\n",
    "                index = index+self.key\n",
    "            else:\n",
    "                index = index+1\n",
    "        return finalStr1\n",
    "        \n",
    "    def decrypt(self,strToDecrypt):\n",
    "        return ''.join(self.decryptLetters1(strToDecrypt))\n",
    "\n",
    "cipher = Cipher()\n",
    "inputStr = input(\"Enter String to Encrypt :\")\n",
    "print(\"Cipher Key is : \",cipher.key)\n",
    "encryptedStr= cipher.encrypt(inputStr)\n",
    "decryptedStr = cipher.decrypt(encryptedStr)\n",
    "print(\"Encrypted String is:\",encryptedStr,'\\n')\n",
    "print(\"Decrypted String is:\",decryptedStr,'\\n')\n",
    "print(\"Input String :\",inputStr,\" and Decrypted String \",decryptedStr,\" Equal or Not: \", (str(inputStr)==str(decryptedStr)))\n"
   ]
  },
  {
   "cell_type": "code",
   "execution_count": null,
   "metadata": {},
   "outputs": [],
   "source": []
  }
 ],
 "metadata": {
  "kernelspec": {
   "display_name": "Python 3",
   "language": "python",
   "name": "python3"
  }
 },
 "nbformat": 4,
 "nbformat_minor": 2
}

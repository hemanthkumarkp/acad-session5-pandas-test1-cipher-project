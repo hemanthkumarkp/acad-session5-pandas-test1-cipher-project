{
 "cells": [
  {
   "cell_type": "markdown",
   "metadata": {},
   "source": [
    "1. Write a program in Python with one class called Cipher.\n",
    "Within the constructor of this class, ask user for a string\n",
    "and store it. Use a static variable, key to store a randomly\n",
    "generated integer between 1 and 50 inclusive. Implement\n",
    "two methods, encrypt and decrypt within this class. Encrypt\n",
    "generates and prints a cipher text using the user-entered\n",
    "string and the key and decrypt generates decrypted string\n",
    "from ciphertext. The cipher only encrypts alpha and\n",
    "numeric (A-Z, a-z, 0-9). All Symbols, such as - , ; %, remain\n",
    "unencrypted. The cipher text can have special characters.\n",
    "Use generator expression to filter out alpha and numeric\n",
    "characters of the input string and to generate cipher text.\n",
    "Create an instance of this class, encrypt and decrypt back\n",
    "the user entered string."
   ]
  },
  {
   "cell_type": "code",
   "execution_count": 16,
   "metadata": {},
   "outputs": [
    {
     "name": "stdout",
     "output_type": "stream",
     "text": [
      "Enter String to Encrypt :AB&#@#ert234ABwe\n",
      "Cipher Key is :  9\n",
      "Encrypted String  after ignoring special characters is: JKn{};<=JKn \n",
      "\n",
      "Decrypted String after ignoring special characters is: ABert234ABwe \n",
      "\n"
     ]
    }
   ],
   "source": [
    "import random\n",
    "import re\n",
    "class Cipher:\n",
    "    key = random.randint(1,51)\n",
    "    #key = 4\n",
    "    def __init__(self):\n",
    "        pass\n",
    "   \n",
    "    \n",
    "    def encryptLetters2(self,str):\n",
    "        self.splChars = []\n",
    "        for index in range(0,len(str)): \n",
    "            if str[index].isalnum():\n",
    "                yield chr(ord(str[index]) + (self.key))\n",
    "                 \n",
    "    def decryptLetters2(self,str):\n",
    "        for letter in str:\n",
    "            #if letter not in splChars:\n",
    "            yield chr(ord(letter) - int(self.key))\n",
    "            \n",
    "    def encrypt2(self,strToEncrypt):\n",
    "        return ''.join(self.encryptLetters2(strToEncrypt))\n",
    "    \n",
    "    def decrypt2(self,strToDecrypt):\n",
    "        return ''.join(self.decryptLetters2(strToDecrypt))\n",
    "\n",
    "cipher = Cipher()\n",
    "inputStr = input(\"Enter String to Encrypt :\")\n",
    "print(\"Cipher Key is : \",cipher.key)\n",
    "encryptedStr= cipher.encrypt2(inputStr)\n",
    "decryptedStr = cipher.decrypt2(encryptedStr)\n",
    "print(\"Encrypted String  after ignoring special characters is:\",encryptedStr,'\\n')\n",
    "print(\"Decrypted String after ignoring special characters is:\",decryptedStr,'\\n')\n"
   ]
  },
  {
   "cell_type": "code",
   "execution_count": null,
   "metadata": {},
   "outputs": [],
   "source": []
  },
  {
   "cell_type": "code",
   "execution_count": null,
   "metadata": {},
   "outputs": [],
   "source": []
  }
 ],
 "metadata": {
  "kernelspec": {
   "display_name": "Python 3",
   "language": "python",
   "name": "python3"
  },
  "language_info": {
   "codemirror_mode": {
    "name": "ipython",
    "version": 3
   },
   "file_extension": ".py",
   "mimetype": "text/x-python",
   "name": "python",
   "nbconvert_exporter": "python",
   "pygments_lexer": "ipython3",
   "version": "3.6.5"
  }
 },
 "nbformat": 4,
 "nbformat_minor": 2
}

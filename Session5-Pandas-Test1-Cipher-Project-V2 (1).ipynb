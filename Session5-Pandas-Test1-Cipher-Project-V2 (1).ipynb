{
 "cells": [
  {
   "cell_type": "markdown",
   "metadata": {},
   "source": [
    "1. Write a program in Python with one class called Cipher.\n",
    "Within the constructor of this class, ask user for a string\n",
    "and store it. Use a static variable, key to store a randomly\n",
    "generated integer between 1 and 50 inclusive. Implement\n",
    "two methods, encrypt and decrypt within this class. Encrypt\n",
    "generates and prints a cipher text using the user-entered\n",
    "string and the key and decrypt generates decrypted string\n",
    "from ciphertext. The cipher only encrypts alpha and\n",
    "numeric (A-Z, a-z, 0-9). All Symbols, such as - , ; %, remain\n",
    "unencrypted. The cipher text can have special characters.\n",
    "Use generator expression to filter out alpha and numeric\n",
    "characters of the input string and to generate cipher text.\n",
    "Create an instance of this class, encrypt and decrypt back\n",
    "the user entered string."
   ]
  },
  {
   "cell_type": "code",
   "execution_count": 2,
   "metadata": {},
   "outputs": [
    {
     "name": "stdout",
     "output_type": "stream",
     "text": [
      "Enter String to Encrypt :asdfW@#$@#q3453SEFRS\n",
      "Cipher Key is :  33\n",
      "Encrypted String  after ignoring special characters is: ",
      "xTUVTtfgst \n",
      "\n",
      "Decrypted String after ignoring special characters is: asdfWq3453SEFRS \n",
      "\n",
      "Enter String to Encrypt :asdfQWEER@#$@345\n",
      "Cipher Key is :  12\n",
      "Encrypted String  after ignoring special characters is: mpr]cQQ^?@A \n",
      "\n",
      "Decrypted String after ignoring special characters is: asdfQWEER345 \n",
      "\n"
     ]
    }
   ],
   "source": [
    "import random\n",
    "import re\n",
    "#Cipher class for encryption and decryption\n",
    "class Cipher:\n",
    "    #random number generation for key usage\n",
    "    key = random.randint(1,51)\n",
    "    \n",
    "    #initializing new key for every cipher object creation\n",
    "    def __init__(self):\n",
    "        self.key = random.randint(1,51)\n",
    "        pass\n",
    "   \n",
    "    #encrypt every letter or digit using randomly generated key and return each new character using yield\n",
    "    #for given letter use ord and find ascii code and forward the ascii code as per new key generated\n",
    "    # eg: for letter A with with 5, encyrpt it as F.\n",
    "    def encryptLetters2(self,str):\n",
    "        for index in range(0,len(str)): \n",
    "            if str[index].isalnum():\n",
    "                yield chr(ord(str[index]) + (self.key))\n",
    "     \n",
    "    #decrypt the encyrpted letter \n",
    "    #eg : F with Key 5 will be decrypted as A\n",
    "    def decryptLetters2(self,str):\n",
    "        for letter in str:\n",
    "            #if letter not in splChars:\n",
    "            yield chr(ord(letter) - int(self.key))\n",
    "    #encrypt base method with receives all character using yeild. special characters are ignored     \n",
    "    def encrypt2(self,strToEncrypt):\n",
    "        return ''.join(self.encryptLetters2(strToEncrypt))\n",
    "    #decrypt base method to generate the decrypted letters with out special characters\n",
    "    def decrypt2(self,strToDecrypt):\n",
    "        return ''.join(self.decryptLetters2(strToDecrypt))\n",
    "\n",
    "cipher1 = Cipher()\n",
    "inputStr = input(\"Enter String to Encrypt :\")\n",
    "print(\"Cipher Key is : \",cipher1.key)\n",
    "encryptedStr= cipher1.encrypt2(inputStr)\n",
    "decryptedStr = cipher1.decrypt2(encryptedStr)\n",
    "print(\"Encrypted String  after ignoring special characters is:\",encryptedStr,'\\n')\n",
    "print(\"Decrypted String after ignoring special characters is:\",decryptedStr,'\\n')\n",
    "cipher2 = Cipher()\n",
    "inputStr = input(\"Enter String to Encrypt :\")\n",
    "print(\"Cipher Key is : \",cipher2.key)\n",
    "encryptedStr= cipher2.encrypt2(inputStr)\n",
    "decryptedStr = cipher2.decrypt2(encryptedStr)\n",
    "print(\"Encrypted String  after ignoring special characters is:\",encryptedStr,'\\n')\n",
    "print(\"Decrypted String after ignoring special characters is:\",decryptedStr,'\\n')\n"
   ]
  },
  {
   "cell_type": "code",
   "execution_count": null,
   "metadata": {},
   "outputs": [],
   "source": []
  },
  {
   "cell_type": "code",
   "execution_count": null,
   "metadata": {},
   "outputs": [],
   "source": []
  }
 ],
 "metadata": {
  "kernelspec": {
   "display_name": "Python 3",
   "language": "python",
   "name": "python3"
  },
  "language_info": {
   "codemirror_mode": {
    "name": "ipython",
    "version": 3
   },
   "file_extension": ".py",
   "mimetype": "text/x-python",
   "name": "python",
   "nbconvert_exporter": "python",
   "pygments_lexer": "ipython3",
   "version": "3.6.5"
  }
 },
 "nbformat": 4,
 "nbformat_minor": 2
}
